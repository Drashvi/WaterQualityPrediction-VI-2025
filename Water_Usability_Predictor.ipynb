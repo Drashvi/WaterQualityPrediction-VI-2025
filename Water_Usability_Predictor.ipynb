{
 "cells": [
  {
   "cell_type": "code",
   "execution_count": null,
   "id": "6810238a",
   "metadata": {},
   "outputs": [],
   "source": [
    "\n",
    "import pandas as pd\n",
    "import numpy as np\n",
    "import matplotlib.pyplot as plt\n",
    "\n",
    "from sklearn.ensemble import RandomForestClassifier\n",
    "from sklearn.model_selection import train_test_split\n",
    "from sklearn.metrics import classification_report, confusion_matrix, accuracy_score\n"
   ]
  },
  {
   "cell_type": "code",
   "execution_count": null,
   "id": "55fe4c16",
   "metadata": {},
   "outputs": [],
   "source": [
    "\n",
    "# Load the dataset\n",
    "df = pd.read_csv(\"waterpred.csv\", sep=';')\n",
    "df.head()\n"
   ]
  },
  {
   "cell_type": "code",
   "execution_count": null,
   "id": "9c77e084",
   "metadata": {},
   "outputs": [],
   "source": [
    "\n",
    "# Define a new 'usable' column based on pollutant thresholds\n",
    "df['usable'] = np.where(\n",
    "    (df['O2'] > 4) & \n",
    "    (df['NO3'] < 45) & \n",
    "    (df['NO2'] < 3) & \n",
    "    (df['SO4'] < 250) & \n",
    "    (df['PO4'] < 5) & \n",
    "    (df['CL'] < 250),\n",
    "    1, 0\n",
    ")\n",
    "\n",
    "df[['O2', 'NO3', 'NO2', 'SO4', 'PO4', 'CL', 'usable']].head()\n"
   ]
  },
  {
   "cell_type": "code",
   "execution_count": null,
   "id": "382e7342",
   "metadata": {},
   "outputs": [],
   "source": [
    "\n",
    "# Features and target\n",
    "X = df[['O2', 'NO3', 'NO2', 'SO4', 'PO4', 'CL']]\n",
    "y = df['usable']\n",
    "\n",
    "# Train-test split\n",
    "X_train, X_test, y_train, y_test = train_test_split(X, y, test_size=0.2, random_state=42)\n"
   ]
  },
  {
   "cell_type": "code",
   "execution_count": null,
   "id": "37a24811",
   "metadata": {},
   "outputs": [],
   "source": [
    "\n",
    "# Train Random Forest Classifier\n",
    "clf = RandomForestClassifier(n_estimators=100, random_state=42)\n",
    "clf.fit(X_train, y_train)\n",
    "\n",
    "# Prediction and evaluation\n",
    "y_pred = clf.predict(X_test)\n",
    "\n",
    "print(\"Confusion Matrix:\\n\", confusion_matrix(y_test, y_pred))\n",
    "print(\"\\nClassification Report:\\n\", classification_report(y_test, y_pred))\n",
    "print(\"\\nAccuracy Score:\", accuracy_score(y_test, y_pred))\n"
   ]
  },
  {
   "cell_type": "code",
   "execution_count": null,
   "id": "3504cfe8",
   "metadata": {},
   "outputs": [],
   "source": [
    "\n",
    "# Predict usability of a new sample\n",
    "def predict_usability(sample_dict):\n",
    "    sample = pd.DataFrame([sample_dict])\n",
    "    pred = clf.predict(sample)[0]\n",
    "    return \"✅ Water is usable/drinkable\" if pred == 1 else \"❌ Water is NOT usable/drinkable\"\n",
    "\n",
    "# Example usage\n",
    "sample_input = {\n",
    "    \"O2\": 5.2,\n",
    "    \"NO3\": 12.0,\n",
    "    \"NO2\": 0.5,\n",
    "    \"SO4\": 100.0,\n",
    "    \"PO4\": 0.7,\n",
    "    \"CL\": 120.0\n",
    "}\n",
    "print(\"Prediction result:\", predict_usability(sample_input))\n"
   ]
  }
 ],
 "metadata": {},
 "nbformat": 4,
 "nbformat_minor": 5
}
